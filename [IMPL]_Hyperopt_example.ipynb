{
 "cells": [
  {
   "cell_type": "code",
   "execution_count": 1,
   "metadata": {},
   "outputs": [],
   "source": [
    "from hyperopt import hp\n",
    "from hyperopt import fmin, tpe, space_eval"
   ]
  },
  {
   "cell_type": "markdown",
   "metadata": {},
   "source": [
    "## Non-hierarchical params"
   ]
  },
  {
   "cell_type": "code",
   "execution_count": 2,
   "metadata": {},
   "outputs": [],
   "source": [
    "# Define an objective function\n",
    "def objective(params):\n",
    "    # Here you train your model and return some metric, e.g. accuracy\n",
    "    x = params['x']\n",
    "    y = params['y']\n",
    "    \n",
    "    return (x - y)**2"
   ]
  },
  {
   "cell_type": "code",
   "execution_count": 3,
   "metadata": {},
   "outputs": [
    {
     "name": "stdout",
     "output_type": "stream",
     "text": [
      "100%|█████████████████████████████████████████| 1000/1000 [00:25<00:00, 39.75trial/s, best loss: 1.080987229232419e-07]\n"
     ]
    }
   ],
   "source": [
    "# Define a search space\n",
    "space = {\n",
    "    'x': hp.uniform('x', -10, 1),\n",
    "    'y': hp.uniform('y', -10, 1)\n",
    "}\n",
    "\n",
    "# Minimize the objective over the space\n",
    "best = fmin(objective, space, algo=tpe.suggest, max_evals=1000)"
   ]
  },
  {
   "cell_type": "code",
   "execution_count": 4,
   "metadata": {},
   "outputs": [
    {
     "data": {
      "text/plain": [
       "{'x': -1.7473029845720038, 'y': -1.747631768274342}"
      ]
     },
     "execution_count": 4,
     "metadata": {},
     "output_type": "execute_result"
    }
   ],
   "source": [
    "best"
   ]
  },
  {
   "cell_type": "markdown",
   "metadata": {},
   "source": [
    "## Hierarchical params"
   ]
  },
  {
   "cell_type": "code",
   "execution_count": 2,
   "metadata": {},
   "outputs": [],
   "source": [
    "# Define an objective for hierarchical params\n",
    "def obj_hier(params):\n",
    "    print(params) # Check print output to understand the `params` staructure\n",
    "    return 0"
   ]
  },
  {
   "cell_type": "code",
   "execution_count": 11,
   "metadata": {},
   "outputs": [
    {
     "name": "stdout",
     "output_type": "stream",
     "text": [
      "('case_2', {'loss_func': 'hinge2', 'penalty': 'l13'})                                                                  \n",
      "('case_1', {'loss_func': 'hinge', 'penalty': 'l2'})                                                                    \n",
      "('case_1', {'loss_func': 'hinge', 'penalty': 'l2'})                                                                    \n",
      "('case_1', {'loss_func': 'hinge', 'penalty': 'l2'})                                                                    \n",
      "('case_2', {'loss_func': 'hinge', 'penalty': 'l1000'})                                                                 \n",
      "('case_1', {'loss_func': 'hinge', 'penalty': 'l2'})                                                                    \n",
      "('case_1', {'loss_func': 'hinge', 'penalty': 'l1'})                                                                    \n",
      "('case_1', {'loss_func': 'hinge', 'penalty': 'l1'})                                                                    \n",
      "('case_2', {'loss_func': 'hinge', 'penalty': 'l1'})                                                                    \n",
      "('case_1', {'loss_func': 'hinge', 'penalty': 'l2'})                                                                    \n",
      "100%|██████████████████████████████████████████████████████████████| 10/10 [00:00<00:00, 128.55trial/s, best loss: 0.0]\n"
     ]
    }
   ],
   "source": [
    "# Define a hierarchical search space\n",
    "space_hier = hp.choice('case', \n",
    "                      [\n",
    "                          ('case_1', {\n",
    "                              'loss_func': hp.choice('loss_func_1', ['hinge']),\n",
    "                              'penalty': hp.choice('penalty_1', ['l1', 'l2'])\n",
    "                          }),\n",
    "                          ('case_2', {\n",
    "                              'loss_func': hp.choice('loss_func_2', ['hinge', 'hinge2']),\n",
    "                              'penalty': hp.choice('penalty_2', ['l1', 'l2', 'l1000', 'l13'])\n",
    "                          })\n",
    "                      ])\n",
    "\n",
    "# Minimize the objective over the space\n",
    "best = fmin(obj_hier, space_hier, algo=tpe.suggest, max_evals=10)"
   ]
  },
  {
   "cell_type": "code",
   "execution_count": 12,
   "metadata": {},
   "outputs": [
    {
     "data": {
      "text/plain": [
       "{'case': 1, 'loss_func_2': 1, 'penalty_2': 3}"
      ]
     },
     "execution_count": 12,
     "metadata": {},
     "output_type": "execute_result"
    }
   ],
   "source": [
    "best"
   ]
  },
  {
   "cell_type": "code",
   "execution_count": null,
   "metadata": {},
   "outputs": [],
   "source": []
  }
 ],
 "metadata": {
  "kernelspec": {
   "display_name": "Python [conda env:nlp-dl-env]",
   "language": "python",
   "name": "conda-env-nlp-dl-env-py"
  },
  "language_info": {
   "codemirror_mode": {
    "name": "ipython",
    "version": 3
   },
   "file_extension": ".py",
   "mimetype": "text/x-python",
   "name": "python",
   "nbconvert_exporter": "python",
   "pygments_lexer": "ipython3",
   "version": "3.8.10"
  }
 },
 "nbformat": 4,
 "nbformat_minor": 4
}
