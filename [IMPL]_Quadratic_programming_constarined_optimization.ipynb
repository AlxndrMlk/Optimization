{
 "cells": [
  {
   "cell_type": "code",
   "execution_count": 1,
   "metadata": {},
   "outputs": [],
   "source": [
    "import numpy as np\n",
    "from scipy.optimize import minimize"
   ]
  },
  {
   "cell_type": "markdown",
   "metadata": {},
   "source": [
    "# Optimize multivariable function using constrained optimization\n",
    "Based on: https://www.youtube.com/watch?v=cXHvC_FGx24"
   ]
  },
  {
   "cell_type": "markdown",
   "metadata": {},
   "source": [
    "Let's minimize:\n",
    "\n",
    "$$min \\ x_1 x_4 (x_1 + x_2 + x_3) + x_3$$\n",
    "\n",
    "with the following constraints:\n",
    "\n",
    "* $x_1 x_2 x_3 x_4 \\geq 40$\n",
    "\n",
    "\n",
    "* $x_1^2 + x_2^2 + x_3^2 + x_4^2 = 40$\n",
    "\n",
    "\n",
    "* $1 \\leq x_1,\\ x_2,\\ x_3,\\ x_4 \\leq 5 $\n",
    "\n",
    "\n",
    "Let's define our initial values as \n",
    "\n",
    "$$X_0 = (1, 5, 5, 1)$$"
   ]
  },
  {
   "cell_type": "code",
   "execution_count": 3,
   "metadata": {},
   "outputs": [],
   "source": [
    "# Define init vals\n",
    "X = np.array([1, 5, 5, 1])"
   ]
  },
  {
   "cell_type": "code",
   "execution_count": 4,
   "metadata": {},
   "outputs": [],
   "source": [
    "# Define objective function\n",
    "def objective(x):\n",
    "    return x[0] * x[3] * (x[0] + x[1] + x[2]) + x[2]"
   ]
  },
  {
   "cell_type": "code",
   "execution_count": 7,
   "metadata": {},
   "outputs": [
    {
     "data": {
      "text/plain": [
       "16"
      ]
     },
     "execution_count": 7,
     "metadata": {},
     "output_type": "execute_result"
    }
   ],
   "source": [
    "# Sanity check\n",
    "objective(X)"
   ]
  },
  {
   "cell_type": "code",
   "execution_count": 11,
   "metadata": {},
   "outputs": [],
   "source": [
    "# Define constraint 1 (inequality)\n",
    "def constr_1(x):\n",
    "    return x[0] * x[1] * x[2] * x[3] - 25\n",
    "\n",
    "# Define constraint 2 (equality)\n",
    "def constr_2(x):\n",
    "    return sum(x**2) - 40 "
   ]
  },
  {
   "cell_type": "code",
   "execution_count": 10,
   "metadata": {},
   "outputs": [
    {
     "data": {
      "text/plain": [
       "12"
      ]
     },
     "execution_count": 10,
     "metadata": {},
     "output_type": "execute_result"
    }
   ],
   "source": [
    "# Sanity check\n",
    "constr_2(X)"
   ]
  },
  {
   "cell_type": "code",
   "execution_count": 17,
   "metadata": {},
   "outputs": [],
   "source": [
    "# Setup bounds for variables\n",
    "bound = (1, 5)\n",
    "bounds = tuple([bound]*4)"
   ]
  },
  {
   "cell_type": "code",
   "execution_count": 22,
   "metadata": {},
   "outputs": [],
   "source": [
    "# Specify additional information on constraints\n",
    "con_1 = {'type': 'ineq', \n",
    "         'fun' : constr_1\n",
    "        }\n",
    "\n",
    "con_2 = {'type': 'eq', \n",
    "         'fun' : constr_2\n",
    "        }\n",
    "\n",
    "cons = [con_1, con_2]"
   ]
  },
  {
   "cell_type": "code",
   "execution_count": 33,
   "metadata": {},
   "outputs": [],
   "source": [
    " # Define a solution\n",
    "solution = minimize(objective, \n",
    "                    X,\n",
    "                    method = 'SLSQP',\n",
    "                    bounds = bounds,\n",
    "                    constraints = cons)"
   ]
  },
  {
   "cell_type": "code",
   "execution_count": 34,
   "metadata": {},
   "outputs": [
    {
     "name": "stdout",
     "output_type": "stream",
     "text": [
      "     fun: 17.01401724556073\n",
      "     jac: array([14.57227039,  1.37940764,  2.37940764,  9.56415081])\n",
      " message: 'Optimization terminated successfully.'\n",
      "    nfev: 30\n",
      "     nit: 5\n",
      "    njev: 5\n",
      "  status: 0\n",
      " success: True\n",
      "       x: array([1.        , 4.74299607, 3.82115466, 1.37940764])\n"
     ]
    }
   ],
   "source": [
    "# Examine solution\n",
    "print(solution)"
   ]
  },
  {
   "cell_type": "code",
   "execution_count": 35,
   "metadata": {},
   "outputs": [
    {
     "data": {
      "text/plain": [
       "17.01401724556073"
      ]
     },
     "execution_count": 35,
     "metadata": {},
     "output_type": "execute_result"
    }
   ],
   "source": [
    "objective(solution.x)"
   ]
  },
  {
   "cell_type": "code",
   "execution_count": null,
   "metadata": {},
   "outputs": [],
   "source": []
  }
 ],
 "metadata": {
  "kernelspec": {
   "display_name": "Python 3",
   "language": "python",
   "name": "python3"
  },
  "language_info": {
   "codemirror_mode": {
    "name": "ipython",
    "version": 3
   },
   "file_extension": ".py",
   "mimetype": "text/x-python",
   "name": "python",
   "nbconvert_exporter": "python",
   "pygments_lexer": "ipython3",
   "version": "3.6.5"
  }
 },
 "nbformat": 4,
 "nbformat_minor": 2
}
