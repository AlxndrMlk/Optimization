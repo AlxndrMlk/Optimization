{
 "cells": [
  {
   "cell_type": "code",
   "execution_count": 1,
   "metadata": {},
   "outputs": [],
   "source": [
    "from collections import OrderedDict\n",
    "\n",
    "import pandas as pd\n",
    "import numpy as np\n",
    "\n",
    "from hyperopt import hp\n",
    "from hyperopt import fmin, tpe, space_eval"
   ]
  },
  {
   "cell_type": "markdown",
   "metadata": {},
   "source": [
    "## Get data"
   ]
  },
  {
   "cell_type": "markdown",
   "metadata": {},
   "source": [
    "Goal: get a combination of `dark_ch`, `nibs` and `cocoa` that will have the same properties as 35g of `target`."
   ]
  },
  {
   "cell_type": "code",
   "execution_count": 2,
   "metadata": {},
   "outputs": [],
   "source": [
    "target = pd.DataFrame(OrderedDict({\n",
    "    'protein': [13.5 / 100],\n",
    "    'fat': [49.4 / 100],\n",
    "    'carbs': [13.6 / 100]\n",
    "}))\n",
    "\n",
    "dark_ch = pd.DataFrame(OrderedDict({\n",
    "    'protein': [9.8 / 100], \n",
    "    'fat': [43 / 100],\n",
    "    'carbs': [32 / 100] \n",
    "}))\n",
    "\n",
    "nibs = pd.DataFrame(OrderedDict({\n",
    "    'protein': [14 / 100], \n",
    "    'fat': [54 / 100],\n",
    "    'carbs': [11 / 100]    \n",
    "}))\n",
    "\n",
    "cocoa = pd.DataFrame(OrderedDict({\n",
    "    'protein': [21 / 100], \n",
    "    'fat': [11 / 100],\n",
    "    'carbs': [10 / 100]   \n",
    "}))"
   ]
  },
  {
   "cell_type": "markdown",
   "metadata": {},
   "source": [
    "## Optimize using `hyperopt`"
   ]
  },
  {
   "cell_type": "code",
   "execution_count": 3,
   "metadata": {},
   "outputs": [],
   "source": [
    "# Define an objective function\n",
    "def objective(params):\n",
    "    \n",
    "    # Unpack params\n",
    "    amount_dark_ch = params['dark_ch']\n",
    "    amount_nibs = params['nibs']\n",
    "    amount_cocoa = params['cocoa']\n",
    "    \n",
    "    total = amount_dark_ch * dark_ch \\\n",
    "        + amount_nibs * nibs \\\n",
    "        + amount_cocoa * cocoa\n",
    "    \n",
    "    loss = (total - 35*target).values**2\n",
    "    \n",
    "    return np.sum(loss)"
   ]
  },
  {
   "cell_type": "code",
   "execution_count": 4,
   "metadata": {},
   "outputs": [
    {
     "name": "stdout",
     "output_type": "stream",
     "text": [
      "100%|█████████████████████████████████████████| 5000/5000 [04:01<00:00, 20.68trial/s, best loss: 0.0007349313201420041]\n"
     ]
    }
   ],
   "source": [
    "# Define a search space\n",
    "space = {\n",
    "    'dark_ch': hp.uniform('dark_ch', 1, 35),\n",
    "    'nibs': hp.uniform('nibs', 1, 35),\n",
    "    'cocoa': hp.uniform('cocoa', 1, 35),   \n",
    "}\n",
    "\n",
    "# Minimize the objective over the space\n",
    "best = fmin(objective, space, algo=tpe.suggest, max_evals=5000)"
   ]
  },
  {
   "cell_type": "code",
   "execution_count": 5,
   "metadata": {},
   "outputs": [
    {
     "data": {
      "text/plain": [
       "{'cocoa': 1.6263269259884072,\n",
       " 'dark_ch': 4.794805460652948,\n",
       " 'nibs': 27.830607643708824}"
      ]
     },
     "execution_count": 5,
     "metadata": {},
     "output_type": "execute_result"
    }
   ],
   "source": [
    "best"
   ]
  },
  {
   "cell_type": "code",
   "execution_count": 6,
   "metadata": {
    "scrolled": true
   },
   "outputs": [
    {
     "name": "stdout",
     "output_type": "stream",
     "text": [
      "35 g of target:\n",
      "   protein    fat  carbs\n",
      "0    4.725  17.29   4.76\n",
      "\n",
      "Our mix:\n",
      "    protein       fat     carbs\n",
      "0  4.707705  17.26919  4.758337\n"
     ]
    }
   ],
   "source": [
    "print('35 g of target:')\n",
    "print(35 * target)\n",
    "\n",
    "print('\\nOur mix:')\n",
    "print(best['nibs'] * nibs + best['cocoa'] * cocoa + best['dark_ch'] * dark_ch)"
   ]
  },
  {
   "cell_type": "markdown",
   "metadata": {},
   "source": [
    "## Linear system solve"
   ]
  },
  {
   "cell_type": "code",
   "execution_count": 7,
   "metadata": {},
   "outputs": [],
   "source": [
    "# Assign variables\n",
    "A = pd.concat([nibs, cocoa, dark_ch]).values.T\n",
    "b = (target.values * 35).T"
   ]
  },
  {
   "cell_type": "code",
   "execution_count": 8,
   "metadata": {},
   "outputs": [
    {
     "data": {
      "text/plain": [
       "-0.023340800000000002"
      ]
     },
     "execution_count": 8,
     "metadata": {},
     "output_type": "execute_result"
    }
   ],
   "source": [
    "# Check if the feature matrix has a non-zero determinant\n",
    "np.linalg.det(A)"
   ]
  },
  {
   "cell_type": "code",
   "execution_count": 9,
   "metadata": {},
   "outputs": [
    {
     "data": {
      "text/plain": [
       "(array([[0.14 , 0.21 , 0.098],\n",
       "        [0.54 , 0.11 , 0.43 ],\n",
       "        [0.11 , 0.1  , 0.32 ]]),\n",
       " array([[ 4.725],\n",
       "        [17.29 ],\n",
       "        [ 4.76 ]]))"
      ]
     },
     "execution_count": 9,
     "metadata": {},
     "output_type": "execute_result"
    }
   ],
   "source": [
    "# Sanity check\n",
    "A, b"
   ]
  },
  {
   "cell_type": "code",
   "execution_count": 10,
   "metadata": {},
   "outputs": [],
   "source": [
    "# Solve the system\n",
    "solution = np.dot(np.linalg.inv(A), b).squeeze()"
   ]
  },
  {
   "cell_type": "code",
   "execution_count": 11,
   "metadata": {},
   "outputs": [
    {
     "name": "stdout",
     "output_type": "stream",
     "text": [
      "35 g of target:\n",
      "   protein    fat  carbs\n",
      "0    4.725  17.29   4.76\n",
      "\n",
      "Our mix:\n",
      "   protein    fat  carbs\n",
      "0    4.725  17.29   4.76\n"
     ]
    }
   ],
   "source": [
    "# Get results\n",
    "print('35 g of target:')\n",
    "print(35 * target)\n",
    "\n",
    "print('\\nOur mix:')\n",
    "print(solution[0] * nibs + solution[1] * cocoa + solution[2] * dark_ch)"
   ]
  },
  {
   "cell_type": "markdown",
   "metadata": {},
   "source": [
    "This solution is somehow **surprising** as the data comes from real-world ingredients 🤯\n",
    "\n",
    "Despite this, the solution looks pretty **exact**! \n",
    "\n",
    "If you see an error here, please let me know! "
   ]
  },
  {
   "cell_type": "code",
   "execution_count": 14,
   "metadata": {},
   "outputs": [
    {
     "data": {
      "text/plain": [
       "(array([27.88189779,  1.68950936,  4.76262596]),\n",
       " {'cocoa': 1.6263269259884072,\n",
       "  'dark_ch': 4.794805460652948,\n",
       "  'nibs': 27.830607643708824})"
      ]
     },
     "execution_count": 14,
     "metadata": {},
     "output_type": "execute_result"
    }
   ],
   "source": [
    "# Compare solutions\n",
    "solution, best"
   ]
  }
 ],
 "metadata": {
  "kernelspec": {
   "display_name": "Python [conda env:nlp-dl-env]",
   "language": "python",
   "name": "conda-env-nlp-dl-env-py"
  },
  "language_info": {
   "codemirror_mode": {
    "name": "ipython",
    "version": 3
   },
   "file_extension": ".py",
   "mimetype": "text/x-python",
   "name": "python",
   "nbconvert_exporter": "python",
   "pygments_lexer": "ipython3",
   "version": "3.8.10"
  }
 },
 "nbformat": 4,
 "nbformat_minor": 4
}
